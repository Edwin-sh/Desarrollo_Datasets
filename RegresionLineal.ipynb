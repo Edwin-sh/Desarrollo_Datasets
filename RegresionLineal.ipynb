{
 "cells": [
  {
   "cell_type": "markdown",
   "id": "8e5382e6-3f78-48ca-9198-be7fdc50a896",
   "metadata": {},
   "source": [
    "Predicción del precio de material de construcción de acuerdo con el volumen usando regresión lineal"
   ]
  },
  {
   "cell_type": "markdown",
   "id": "68455eed-137b-43dc-bcde-e57852e8778f",
   "metadata": {},
   "source": [
    "1. Carga de datos"
   ]
  },
  {
   "cell_type": "code",
   "execution_count": 1,
   "id": "e6eecaf6-bb45-4707-9e89-21936ebdcce7",
   "metadata": {
    "tags": []
   },
   "outputs": [],
   "source": [
    "#Preparación del entorno de trabajo con las librerias necesarias\n",
    "\n",
    "import matplotlib.pyplot as plt\n",
    "from sklearn import linear_model #usando sklearn para saber los valores optimos\n",
    "import seaborn\n",
    "import numpy as np\n",
    "import pandas as pd"
   ]
  },
  {
   "cell_type": "code",
   "execution_count": 2,
   "id": "7b1ea4bc-6a5f-452b-ab14-1c72898352b5",
   "metadata": {
    "tags": []
   },
   "outputs": [],
   "source": [
    "#Carga de la informacion del CSV en una variable llamada data\n",
    "data = pd.read_csv(\"D:\\Descargas\\data.csv\", sep=\",\")"
   ]
  },
  {
   "cell_type": "code",
   "execution_count": 3,
   "id": "0e3555e0-0f6b-4449-821d-1cd0c90b3344",
   "metadata": {
    "tags": []
   },
   "outputs": [
    {
     "data": {
      "text/html": [
       "<div>\n",
       "<style scoped>\n",
       "    .dataframe tbody tr th:only-of-type {\n",
       "        vertical-align: middle;\n",
       "    }\n",
       "\n",
       "    .dataframe tbody tr th {\n",
       "        vertical-align: top;\n",
       "    }\n",
       "\n",
       "    .dataframe thead th {\n",
       "        text-align: right;\n",
       "    }\n",
       "</style>\n",
       "<table border=\"1\" class=\"dataframe\">\n",
       "  <thead>\n",
       "    <tr style=\"text-align: right;\">\n",
       "      <th></th>\n",
       "      <th>metro</th>\n",
       "      <th>precio</th>\n",
       "    </tr>\n",
       "  </thead>\n",
       "  <tbody>\n",
       "    <tr>\n",
       "      <th>0</th>\n",
       "      <td>5</td>\n",
       "      <td>375</td>\n",
       "    </tr>\n",
       "    <tr>\n",
       "      <th>1</th>\n",
       "      <td>15</td>\n",
       "      <td>487</td>\n",
       "    </tr>\n",
       "    <tr>\n",
       "      <th>2</th>\n",
       "      <td>20</td>\n",
       "      <td>450</td>\n",
       "    </tr>\n",
       "    <tr>\n",
       "      <th>3</th>\n",
       "      <td>25</td>\n",
       "      <td>500</td>\n",
       "    </tr>\n",
       "  </tbody>\n",
       "</table>\n",
       "</div>"
      ],
      "text/plain": [
       "   metro  precio\n",
       "0      5     375\n",
       "1     15     487\n",
       "2     20     450\n",
       "3     25     500"
      ]
     },
     "execution_count": 3,
     "metadata": {},
     "output_type": "execute_result"
    }
   ],
   "source": [
    "#Mostrando la informacion de la variable\n",
    "data"
   ]
  },
  {
   "cell_type": "markdown",
   "id": "72e46959-532f-4fbc-a98e-f8388e215c7d",
   "metadata": {},
   "source": [
    "2. Desarrollo"
   ]
  },
  {
   "cell_type": "code",
   "execution_count": 4,
   "id": "c3c05eec-3971-4452-b12e-7dff93520dc5",
   "metadata": {
    "tags": []
   },
   "outputs": [
    {
     "data": {
      "image/png": "[encoded data removed]",
      "text/plain": [
       "<Figure size 640x480 with 1 Axes>"
      ]
     },
     "metadata": {},
     "output_type": "display_data"
    }
   ],
   "source": [
    "#Realización de la grafica de dispersión\n",
    "data.plot.scatter(x=\"metro\", y=\"precio\")\n",
    "plt.show()"
   ]
  },
  {
   "cell_type": "code",
   "execution_count": 5,
   "id": "ae356f5b-6b71-4b4e-9cbf-ca40262fb3a7",
   "metadata": {
    "tags": []
   },
   "outputs": [],
   "source": [
    "#Creación variable de Regresión lineal\n",
    "regresion = linear_model.LinearRegression()"
   ]
  },
  {
   "cell_type": "code",
   "execution_count": 6,
   "id": "a5b6427d-4972-4341-8c98-f983bb0c0b92",
   "metadata": {
    "tags": []
   },
   "outputs": [],
   "source": [
    "#Agregamos los datos en un array o vector\n",
    "metros = data[\"metro\"].values.reshape((-1,1))"
   ]
  },
  {
   "cell_type": "code",
   "execution_count": 7,
   "id": "adae3ed6-2042-4276-b9f4-5d8f58e85228",
   "metadata": {
    "tags": []
   },
   "outputs": [],
   "source": [
    "#Creación del modelo\n",
    "modelo = regresion.fit(metros, data[\"precio\"])"
   ]
  },
  {
   "cell_type": "code",
   "execution_count": 8,
   "id": "325d73ee-9f8b-44b7-b60a-bdb60427e7ff",
   "metadata": {
    "tags": []
   },
   "outputs": [
    {
     "name": "stdout",
     "output_type": "stream",
     "text": [
      "Interseccion (b) 361.25714285714287\n",
      "Pendiente (m) [5.64571429]\n"
     ]
    }
   ],
   "source": [
    "#Imprimimos los valores de la intersección y la pendiente\n",
    "print(\"Interseccion (b)\", modelo.intercept_)\n",
    "print(\"Pendiente (m)\", modelo.coef_)"
   ]
  },
  {
   "cell_type": "code",
   "execution_count": 9,
   "id": "e7e311ab-fff6-4191-9c86-e4af6e66096b",
   "metadata": {
    "tags": []
   },
   "outputs": [
    {
     "name": "stdout",
     "output_type": "stream",
     "text": [
      "[378.19428571 386.66285714 414.89142857 440.29714286 462.88\n",
      " 485.46285714]\n"
     ]
    }
   ],
   "source": [
    "#Definimos los valores a predecir dentro de un array y los imprimimos\n",
    "entrada= [[3], [4.5], [9.5],[14],[18],[22]]\n",
    "predicciones= modelo.predict(entrada)\n",
    "print(predicciones)"
   ]
  },
  {
   "cell_type": "code",
   "execution_count": 10,
   "id": "a8919476-6968-45f2-a115-5ef27de089cf",
   "metadata": {
    "tags": []
   },
   "outputs": [
    {
     "data": {
      "image/png": "[encoded data removed]",
      "text/plain": [
       "<Figure size 640x480 with 1 Axes>"
      ]
     },
     "metadata": {},
     "output_type": "display_data"
    }
   ],
   "source": [
    "#Configuración y muestra de la grafica de dispersión con regresión lineal\n",
    "data.plot.scatter(x=\"metro\", y=\"precio\", label='Datos originales')\n",
    "plt.scatter(entrada, predicciones, color ='red')\n",
    "plt.plot(entrada, predicciones, color='black', label='Linea de regresión')\n",
    "plt.xlabel('metro')\n",
    "plt.ylabel('precio')\n",
    "plt.legend()\n",
    "plt.show()"
   ]
  },
  {
   "cell_type": "code",
   "execution_count": null,
   "id": "3f7b8c3c-c634-4ee5-b272-7a5b37b5a001",
   "metadata": {},
   "outputs": [],
   "source": []
  }
 ],
 "metadata": {
  "kernelspec": {
   "display_name": "Python 3 (ipykernel)",
   "language": "python",
   "name": "python3"
  },
  "language_info": {
   "codemirror_mode": {
    "name": "ipython",
    "version": 3
   },
   "file_extension": ".py",
   "mimetype": "text/x-python",
   "name": "python",
   "nbconvert_exporter": "python",
   "pygments_lexer": "ipython3",
   "version": "3.11.4"
  }
 },
 "nbformat": 4,
 "nbformat_minor": 5
}
